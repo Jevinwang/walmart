{
 "cells": [
  {
   "cell_type": "code",
   "execution_count": 1,
   "metadata": {},
   "outputs": [],
   "source": [
    "from collections import Counter\n",
    "import json\n",
    "import ast\n",
    "\n",
    "import time\n",
    "from datetime import datetime\n",
    "from more_itertools import collapse\n",
    "\n",
    "import numpy as np\n",
    "import pandas as pd"
   ]
  },
  {
   "cell_type": "code",
   "execution_count": 37,
   "metadata": {},
   "outputs": [],
   "source": [
    "from collections import defaultdict"
   ]
  },
  {
   "cell_type": "code",
   "execution_count": 73,
   "metadata": {},
   "outputs": [],
   "source": [
    "log_data= \"../data/act-tracking_data/log_by_kafka_topic-20190118\"\n",
    "\n",
    "event_res_by_event_id = defaultdict(list)\n",
    "adFrom_by_event_id = defaultdict(list)\n",
    "common_field_by_event_id = defaultdict(list)\n",
    "\n",
    "with open(log_data) as f:\n",
    "    \n",
    "    for i, line in enumerate(f):\n",
    "\n",
    "        if line.strip() == \"log:json\":\n",
    "            continue\n",
    "\n",
    "        \n",
    "        line = json.loads(line.strip())\n",
    "        event_id = line['event']\n",
    "        \n",
    "        event_res_by_event_id[event_id].append(json.loads(line.pop('eventRes')))\n",
    "        adFrom_by_event_id[event_id].append(json.loads(line.pop('adFrom')))\n",
    "        common_field_by_event_id[event_id].append(line)\n",
    "        \n",
    "        if i == 100:\n",
    "            break"
   ]
  },
  {
   "cell_type": "code",
   "execution_count": 85,
   "metadata": {},
   "outputs": [],
   "source": [
    "event_id = '1'"
   ]
  },
  {
   "cell_type": "code",
   "execution_count": 86,
   "metadata": {},
   "outputs": [],
   "source": [
    "dict_key_value_container = defaultdict(list)\n",
    "for adFrom_record in adFrom_by_event_id[event_id]:\n",
    "    for k, v in adFrom_record.items():\n",
    "        dict_key_value_container[k].append(v)"
   ]
  },
  {
   "cell_type": "code",
   "execution_count": 87,
   "metadata": {},
   "outputs": [
    {
     "data": {
      "text/plain": [
       "defaultdict(list,\n",
       "            {'chan_id': [1008,\n",
       "              1008,\n",
       "              1014,\n",
       "              1089,\n",
       "              1089,\n",
       "              1028,\n",
       "              1028,\n",
       "              1001,\n",
       "              1001,\n",
       "              1001,\n",
       "              1001,\n",
       "              1089,\n",
       "              1089,\n",
       "              1037,\n",
       "              1037,\n",
       "              1008,\n",
       "              1089],\n",
       "             'chan_wxapp_scene': [1008,\n",
       "              1008,\n",
       "              1014,\n",
       "              1089,\n",
       "              1089,\n",
       "              1028,\n",
       "              1028,\n",
       "              1001,\n",
       "              1001,\n",
       "              1001,\n",
       "              1001,\n",
       "              1089,\n",
       "              1089,\n",
       "              1037,\n",
       "              1037,\n",
       "              1008,\n",
       "              1089]})"
      ]
     },
     "execution_count": 87,
     "metadata": {},
     "output_type": "execute_result"
    }
   ],
   "source": [
    "dict_key_value_container"
   ]
  },
  {
   "cell_type": "code",
   "execution_count": null,
   "metadata": {},
   "outputs": [],
   "source": []
  }
 ],
 "metadata": {
  "kernelspec": {
   "display_name": "anaconda_public",
   "language": "python",
   "name": "anaconda_public"
  },
  "language_info": {
   "codemirror_mode": {
    "name": "ipython",
    "version": 3
   },
   "file_extension": ".py",
   "mimetype": "text/x-python",
   "name": "python",
   "nbconvert_exporter": "python",
   "pygments_lexer": "ipython3",
   "version": "3.5.2"
  }
 },
 "nbformat": 4,
 "nbformat_minor": 2
}
