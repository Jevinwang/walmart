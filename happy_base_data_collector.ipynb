{
 "cells": [
  {
   "cell_type": "code",
   "execution_count": null,
   "metadata": {
    "ExecuteTime": {
     "end_time": "2019-01-29T06:51:49.231002Z",
     "start_time": "2019-01-29T06:51:49.226641Z"
    }
   },
   "outputs": [],
   "source": [
    "# [HBASE]\n",
    "# nohup ./hbase thrift start &\n",
    "# sudo firewall-cmd --permanent --zone=public  -add-port 9090/tcp\n",
    "# sudo sudo firewall-cmd --reload"
   ]
  },
  {
   "cell_type": "code",
   "execution_count": 1,
   "metadata": {
    "ExecuteTime": {
     "end_time": "2019-01-29T08:37:22.212769Z",
     "start_time": "2019-01-29T08:37:21.661795Z"
    }
   },
   "outputs": [],
   "source": [
    "import happybase\n",
    "import pandas as pd"
   ]
  },
  {
   "cell_type": "code",
   "execution_count": 2,
   "metadata": {
    "ExecuteTime": {
     "end_time": "2019-01-29T08:37:22.217912Z",
     "start_time": "2019-01-29T08:37:22.214736Z"
    }
   },
   "outputs": [],
   "source": [
    "env = 'pro'"
   ]
  },
  {
   "cell_type": "code",
   "execution_count": 3,
   "metadata": {
    "ExecuteTime": {
     "end_time": "2019-01-29T08:37:22.611758Z",
     "start_time": "2019-01-29T08:37:22.608633Z"
    }
   },
   "outputs": [],
   "source": [
    "hbase_host_dict = dict()\n",
    "hbase_host_dict['hbase_host_uat'] = '10.88.3.54' # uat\n",
    "hbase_host_dict['hbase_host_pro'] = '10.88.6.243' # pro"
   ]
  },
  {
   "cell_type": "code",
   "execution_count": 4,
   "metadata": {
    "ExecuteTime": {
     "end_time": "2019-01-29T08:37:22.974639Z",
     "start_time": "2019-01-29T08:37:22.970263Z"
    }
   },
   "outputs": [],
   "source": [
    "host = 'hbase_host_' + env\n",
    "connection = happybase.Connection(hbase_host_dict[host])"
   ]
  },
  {
   "cell_type": "code",
   "execution_count": 5,
   "metadata": {
    "ExecuteTime": {
     "end_time": "2019-01-29T08:37:23.301483Z",
     "start_time": "2019-01-29T08:37:23.266313Z"
    }
   },
   "outputs": [],
   "source": [
    "table_list = list(set([table.decode('utf-8')[:-9]for table in connection.tables()]))"
   ]
  },
  {
   "cell_type": "code",
   "execution_count": 6,
   "metadata": {
    "ExecuteTime": {
     "end_time": "2019-01-29T08:37:23.596540Z",
     "start_time": "2019-01-29T08:37:23.579145Z"
    }
   },
   "outputs": [
    {
     "data": {
      "text/plain": [
       "['tb_view_time',\n",
       " 'recom_response_result',\n",
       " 'tb_cart_time',\n",
       " 'recom_click_result',\n",
       " 'log_by_kafka_topic']"
      ]
     },
     "execution_count": 6,
     "metadata": {},
     "output_type": "execute_result"
    }
   ],
   "source": [
    "table_list"
   ]
  },
  {
   "cell_type": "code",
   "execution_count": 9,
   "metadata": {
    "ExecuteTime": {
     "end_time": "2019-01-29T08:38:30.821145Z",
     "start_time": "2019-01-29T08:38:30.815494Z"
    }
   },
   "outputs": [],
   "source": [
    "def generate_hbase_value(v):\n",
    "    value_set = list()\n",
    "    for key, value in v.items():\n",
    "        value = value.decode('utf-8').replace(\"|\",\"\")\n",
    "        value_set.append(value)\n",
    "    return '|'.join([element for element in value_set])"
   ]
  },
  {
   "cell_type": "code",
   "execution_count": 10,
   "metadata": {
    "ExecuteTime": {
     "end_time": "2019-01-29T08:38:53.613769Z",
     "start_time": "2019-01-29T08:38:31.382259Z"
    }
   },
   "outputs": [
    {
     "name": "stdout",
     "output_type": "stream",
     "text": [
      "Finished 20190120\n"
     ]
    }
   ],
   "source": [
    "for date in range(20190120, 20190121):\n",
    "    date = str(date)\n",
    "    for i in range(len(table_list)):\n",
    "        table_name = '-'.join([table_list[i],date])\n",
    "        table = connection.table(table_name)\n",
    "        file_path = '/'.join(['files', env, date, table_name])\n",
    "        with open (file_path,'w') as f:\n",
    "            a = list()\n",
    "            for k, v in table.scan():\n",
    "                key_list = [(k.decode('utf-8')) for k in v.keys()]\n",
    "                value_str = generate_hbase_value(v)\n",
    "                a.append(value_str)\n",
    "            columns = '|'.join([column for column in key_list])\n",
    "            f.write(columns + '\\n')\n",
    "            for l in a:\n",
    "                f.write(l + '\\n')\n",
    "    print(\"Finished {0}\".format(date))"
   ]
  },
  {
   "cell_type": "code",
   "execution_count": null,
   "metadata": {},
   "outputs": [],
   "source": []
  }
 ],
 "metadata": {
  "kernelspec": {
   "display_name": "Python 3",
   "language": "python",
   "name": "python3"
  },
  "language_info": {
   "codemirror_mode": {
    "name": "ipython",
    "version": 3
   },
   "file_extension": ".py",
   "mimetype": "text/x-python",
   "name": "python",
   "nbconvert_exporter": "python",
   "pygments_lexer": "ipython3",
   "version": "3.6.5"
  }
 },
 "nbformat": 4,
 "nbformat_minor": 2
}
