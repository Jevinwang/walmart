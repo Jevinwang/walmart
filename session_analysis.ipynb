{
 "cells": [
  {
   "cell_type": "code",
   "execution_count": null,
   "metadata": {},
   "outputs": [],
   "source": [
    "# Gina's openID:    oY84P5TDrUrUEN9tN02-b2uC_AcM\n",
    "# Xiaolan's openID:     oY84P5Sgn3H_zpSn8Bn28EVum1_o\n",
    "# YeYANG's openID:    oY84P5dHvbhUQst-_2rVmiRUnjZ8\n",
    "# most frequenter's openID:   oY84P5d-SRz4HdnstzVnuLuAXMNI"
   ]
  },
  {
   "cell_type": "code",
   "execution_count": 1,
   "metadata": {
    "ExecuteTime": {
     "end_time": "2019-01-30T11:08:01.282964Z",
     "start_time": "2019-01-30T11:08:00.862760Z"
    }
   },
   "outputs": [],
   "source": [
    "import pandas as pd\n",
    "import numpy as np\n",
    "from datetime import datetime"
   ]
  },
  {
   "cell_type": "code",
   "execution_count": 2,
   "metadata": {
    "ExecuteTime": {
     "end_time": "2019-01-30T11:08:02.087509Z",
     "start_time": "2019-01-30T11:08:02.081681Z"
    }
   },
   "outputs": [],
   "source": [
    "pd.options.display.max_columns=100"
   ]
  },
  {
   "cell_type": "code",
   "execution_count": 3,
   "metadata": {
    "ExecuteTime": {
     "end_time": "2019-01-30T11:08:02.513219Z",
     "start_time": "2019-01-30T11:08:02.509666Z"
    }
   },
   "outputs": [],
   "source": [
    "pd.options.display.width = 2000"
   ]
  },
  {
   "cell_type": "code",
   "execution_count": 4,
   "metadata": {
    "ExecuteTime": {
     "end_time": "2019-01-30T11:08:02.833206Z",
     "start_time": "2019-01-30T11:08:02.828823Z"
    }
   },
   "outputs": [],
   "source": [
    "pd.options.display.max_colwidth = 1000"
   ]
  },
  {
   "cell_type": "code",
   "execution_count": 5,
   "metadata": {
    "ExecuteTime": {
     "end_time": "2019-01-30T11:08:03.249659Z",
     "start_time": "2019-01-30T11:08:03.245650Z"
    }
   },
   "outputs": [],
   "source": [
    "env = 'pro'"
   ]
  },
  {
   "cell_type": "code",
   "execution_count": 6,
   "metadata": {
    "ExecuteTime": {
     "end_time": "2019-01-30T11:08:03.953032Z",
     "start_time": "2019-01-30T11:08:03.947018Z"
    }
   },
   "outputs": [],
   "source": [
    "def get_df(date):\n",
    "    table_log = 'log_by_kafka_topic-' + date\n",
    "    file_path = '/'.join(['files', env, date, table_log])\n",
    "    res_log = pd.read_csv(file_path, sep='|')\n",
    "    return res_log"
   ]
  },
  {
   "cell_type": "code",
   "execution_count": 7,
   "metadata": {
    "ExecuteTime": {
     "end_time": "2019-01-30T11:08:04.441548Z",
     "start_time": "2019-01-30T11:08:04.434750Z"
    }
   },
   "outputs": [],
   "source": [
    "def filter_log_df(input_df, date):\n",
    "    columns = input_df['log:json'].apply(lambda x : [ k for (k, v) in eval(x).items()]).iloc[:1,].tolist()[0]\n",
    "    data_list = input_df['log:json'].apply(lambda x : [ v for (k, v) in eval(x).items()])\n",
    "    column_dict = {i: columns[i] for i in range(len(columns))}\n",
    "    df = pd.DataFrame.from_items(zip(data_list.index, data_list.values))\n",
    "    df = df.T.rename(columns=column_dict)\n",
    "#     df['date'] = date\n",
    "#     df = df.replace('',np.nan).dropna(axis=1, inplace=False)\n",
    "    return df        "
   ]
  },
  {
   "cell_type": "code",
   "execution_count": null,
   "metadata": {
    "ExecuteTime": {
     "end_time": "2019-01-29T10:24:26.293429Z",
     "start_time": "2019-01-29T10:08:16.702280Z"
    }
   },
   "outputs": [],
   "source": [
    "for date in range(20190116, 20190125):\n",
    "    date = str(date)\n",
    "    df = get_df(date)\n",
    "    df = filter_log_df(df, date)\n",
    "    df.to_csv(\"files/pro/log_by_kafka_topic-\" + date + \".csv\", index=False)\n",
    "    print(\"Finished {}\".format(date))"
   ]
  },
  {
   "cell_type": "code",
   "execution_count": 10,
   "metadata": {
    "ExecuteTime": {
     "end_time": "2019-01-30T11:09:21.534756Z",
     "start_time": "2019-01-30T11:08:13.412281Z"
    }
   },
   "outputs": [
    {
     "name": "stdout",
     "output_type": "stream",
     "text": [
      "Finished 20190117\n",
      "Finished 20190118\n",
      "Finished 20190119\n",
      "Finished 20190120\n",
      "Finished 20190121\n",
      "Finished 20190122\n",
      "Finished 20190123\n",
      "Finished 20190124\n",
      "Finished 20190125\n",
      "Finished 20190126\n",
      "Finished 20190127\n",
      "Finished 20190128\n"
     ]
    }
   ],
   "source": [
    "res = pd.DataFrame()\n",
    "for date in range(20190117,20190129):\n",
    "    date = str(date)\n",
    "    file_path = \"/\".join([\"files\", env, \"log_by_kafka_topic-\" + date + \".csv\"])\n",
    "    df_date = pd.read_csv(file_path)\n",
    "    res = pd.concat([res, df_date], sort=False)\n",
    "    print(\"Finished {}\".format(date))"
   ]
  },
  {
   "cell_type": "code",
   "execution_count": 11,
   "metadata": {
    "ExecuteTime": {
     "end_time": "2019-01-30T11:09:21.548516Z",
     "start_time": "2019-01-30T11:09:21.536963Z"
    }
   },
   "outputs": [
    {
     "data": {
      "text/plain": [
       "Index(['ver', 'mcId', 'unifyId', 'storeId', 'uStoreId', 'appType', 'appId', 'prePage', 'curPage', 'pageTime', 'event', 'eventRes', 'sessionId', 'uid', 'openId', 'wxGender', 'phone', 'isNew', 'screenWidth', 'screenHeight', 'screenDesc', 'screenIsH', 'os', 'browser', 'network', 'ua', 'devBrand', 'devMode', 'devLang', 'wxVer', 'platform', 'ip', 'ctime', 'ts', 'cts', 'env', 'appFrom', 'adFrom', 'pageRefer', 'mac', 'prov', 'city', 'addr', 'longitude', 'latitude', 'devNo', 'isCrack', 'opt1', 'opt2', 'wxUnionId', 'date'], dtype='object')"
      ]
     },
     "execution_count": 11,
     "metadata": {},
     "output_type": "execute_result"
    }
   ],
   "source": [
    "res.columns"
   ]
  },
  {
   "cell_type": "code",
   "execution_count": 12,
   "metadata": {
    "ExecuteTime": {
     "end_time": "2019-01-30T11:09:21.627409Z",
     "start_time": "2019-01-30T11:09:21.550498Z"
    }
   },
   "outputs": [
    {
     "data": {
      "text/html": [
       "<div>\n",
       "<style scoped>\n",
       "    .dataframe tbody tr th:only-of-type {\n",
       "        vertical-align: middle;\n",
       "    }\n",
       "\n",
       "    .dataframe tbody tr th {\n",
       "        vertical-align: top;\n",
       "    }\n",
       "\n",
       "    .dataframe thead th {\n",
       "        text-align: right;\n",
       "    }\n",
       "</style>\n",
       "<table border=\"1\" class=\"dataframe\">\n",
       "  <thead>\n",
       "    <tr style=\"text-align: right;\">\n",
       "      <th></th>\n",
       "      <th>ver</th>\n",
       "      <th>mcId</th>\n",
       "      <th>unifyId</th>\n",
       "      <th>storeId</th>\n",
       "      <th>uStoreId</th>\n",
       "      <th>appType</th>\n",
       "      <th>appId</th>\n",
       "      <th>prePage</th>\n",
       "      <th>curPage</th>\n",
       "      <th>pageTime</th>\n",
       "      <th>event</th>\n",
       "      <th>eventRes</th>\n",
       "      <th>sessionId</th>\n",
       "      <th>uid</th>\n",
       "      <th>openId</th>\n",
       "      <th>wxGender</th>\n",
       "      <th>phone</th>\n",
       "      <th>isNew</th>\n",
       "      <th>screenWidth</th>\n",
       "      <th>screenHeight</th>\n",
       "      <th>screenDesc</th>\n",
       "      <th>screenIsH</th>\n",
       "      <th>os</th>\n",
       "      <th>browser</th>\n",
       "      <th>network</th>\n",
       "      <th>ua</th>\n",
       "      <th>devBrand</th>\n",
       "      <th>devMode</th>\n",
       "      <th>devLang</th>\n",
       "      <th>wxVer</th>\n",
       "      <th>platform</th>\n",
       "      <th>ip</th>\n",
       "      <th>ctime</th>\n",
       "      <th>ts</th>\n",
       "      <th>cts</th>\n",
       "      <th>env</th>\n",
       "      <th>appFrom</th>\n",
       "      <th>adFrom</th>\n",
       "      <th>pageRefer</th>\n",
       "      <th>mac</th>\n",
       "      <th>prov</th>\n",
       "      <th>city</th>\n",
       "      <th>addr</th>\n",
       "      <th>longitude</th>\n",
       "      <th>latitude</th>\n",
       "      <th>devNo</th>\n",
       "      <th>isCrack</th>\n",
       "      <th>opt1</th>\n",
       "      <th>opt2</th>\n",
       "      <th>wxUnionId</th>\n",
       "      <th>date</th>\n",
       "    </tr>\n",
       "  </thead>\n",
       "  <tbody>\n",
       "    <tr>\n",
       "      <th>0</th>\n",
       "      <td>1</td>\n",
       "      <td>1785</td>\n",
       "      <td>NaN</td>\n",
       "      <td>NaN</td>\n",
       "      <td>NaN</td>\n",
       "      <td>1</td>\n",
       "      <td>1</td>\n",
       "      <td>NaN</td>\n",
       "      <td>NaN</td>\n",
       "      <td>NaN</td>\n",
       "      <td>1</td>\n",
       "      <td>{\"id\":\"\",\"domPos\":\"\",\"type\":\"\",\"typeCN\":\"\",\"kword\":\"\",\"cg\":\"\",\"cgCN\":\"\",\"sort\":\"\",\"sortCN\":\"\",\"state\":\"\",\"stateCN\":\"\",\"from\":\"\",\"fromCN\":\"\",\"upc\":\"\"}</td>\n",
       "      <td>m7VQRGQtNqeW1KzfsJvVYg==</td>\n",
       "      <td>NaN</td>\n",
       "      <td>oY84P5ZacGCfW0q5nXoEXN7i3w28</td>\n",
       "      <td>M</td>\n",
       "      <td>NaN</td>\n",
       "      <td>1</td>\n",
       "      <td>375</td>\n",
       "      <td>667</td>\n",
       "      <td>2.0</td>\n",
       "      <td>NaN</td>\n",
       "      <td>iOS 11.4.1</td>\n",
       "      <td>Apple WebKit</td>\n",
       "      <td>NaN</td>\n",
       "      <td>NaN</td>\n",
       "      <td>iPhone</td>\n",
       "      <td>NaN</td>\n",
       "      <td>zh_CN</td>\n",
       "      <td>7.0.2</td>\n",
       "      <td>ios</td>\n",
       "      <td>10.88.96.75</td>\n",
       "      <td>2019-01-17 12:54:31</td>\n",
       "      <td>1547700871468</td>\n",
       "      <td>1547700871397</td>\n",
       "      <td>1</td>\n",
       "      <td>NaN</td>\n",
       "      <td>{\"chan_wxapp_scene\":1058,\"chan_id\":1058}</td>\n",
       "      <td>NaN</td>\n",
       "      <td>NaN</td>\n",
       "      <td>NaN</td>\n",
       "      <td>NaN</td>\n",
       "      <td>NaN</td>\n",
       "      <td>114.235512</td>\n",
       "      <td>22.724514</td>\n",
       "      <td>NaN</td>\n",
       "      <td>NaN</td>\n",
       "      <td>NaN</td>\n",
       "      <td>NaN</td>\n",
       "      <td>owKUrwyMnFU_jGStYLCRPoT4sYAM</td>\n",
       "      <td>20190117</td>\n",
       "    </tr>\n",
       "    <tr>\n",
       "      <th>1</th>\n",
       "      <td>1</td>\n",
       "      <td>1785</td>\n",
       "      <td>NaN</td>\n",
       "      <td>2744.0</td>\n",
       "      <td>NaN</td>\n",
       "      <td>1</td>\n",
       "      <td>1</td>\n",
       "      <td>NaN</td>\n",
       "      <td>NaN</td>\n",
       "      <td>NaN</td>\n",
       "      <td>1</td>\n",
       "      <td>{\"id\":\"\",\"domPos\":\"\",\"type\":\"\",\"typeCN\":\"\",\"kword\":\"\",\"cg\":\"\",\"cgCN\":\"\",\"sort\":\"\",\"sortCN\":\"\",\"state\":\"\",\"stateCN\":\"\",\"from\":\"\",\"fromCN\":\"\",\"upc\":\"\"}</td>\n",
       "      <td>KA0ivcqXlWvjjc7yGLbgPg==</td>\n",
       "      <td>NaN</td>\n",
       "      <td>oY84P5XZ6podFVTAhar1bhTwKbcg</td>\n",
       "      <td>N</td>\n",
       "      <td>NaN</td>\n",
       "      <td>0</td>\n",
       "      <td>360</td>\n",
       "      <td>760</td>\n",
       "      <td>3.0</td>\n",
       "      <td>NaN</td>\n",
       "      <td>Android 8.1.0</td>\n",
       "      <td>Chrome Mobile</td>\n",
       "      <td>NaN</td>\n",
       "      <td>NaN</td>\n",
       "      <td>HONOR</td>\n",
       "      <td>NaN</td>\n",
       "      <td>zh_CN</td>\n",
       "      <td>7.0</td>\n",
       "      <td>android</td>\n",
       "      <td>10.88.96.75</td>\n",
       "      <td>2019-01-17 08:48:33</td>\n",
       "      <td>1547686113463</td>\n",
       "      <td>1547686113009</td>\n",
       "      <td>1</td>\n",
       "      <td>NaN</td>\n",
       "      <td>{\"chan_wxapp_scene\":1008,\"chan_id\":1008}</td>\n",
       "      <td>NaN</td>\n",
       "      <td>NaN</td>\n",
       "      <td>NaN</td>\n",
       "      <td>NaN</td>\n",
       "      <td>NaN</td>\n",
       "      <td>113.317829</td>\n",
       "      <td>22.967184</td>\n",
       "      <td>NaN</td>\n",
       "      <td>NaN</td>\n",
       "      <td>NaN</td>\n",
       "      <td>NaN</td>\n",
       "      <td>owKUrwznYaK1JahAzcppZbTfhrl4</td>\n",
       "      <td>20190117</td>\n",
       "    </tr>\n",
       "    <tr>\n",
       "      <th>2</th>\n",
       "      <td>1</td>\n",
       "      <td>1785</td>\n",
       "      <td>NaN</td>\n",
       "      <td>2744.0</td>\n",
       "      <td>NaN</td>\n",
       "      <td>1</td>\n",
       "      <td>1</td>\n",
       "      <td>NaN</td>\n",
       "      <td>NaN</td>\n",
       "      <td>NaN</td>\n",
       "      <td>1</td>\n",
       "      <td>{\"id\":\"\",\"domPos\":\"\",\"type\":\"\",\"typeCN\":\"\",\"kword\":\"\",\"cg\":\"\",\"cgCN\":\"\",\"sort\":\"\",\"sortCN\":\"\",\"state\":\"\",\"stateCN\":\"\",\"from\":\"\",\"fromCN\":\"\",\"upc\":\"\"}</td>\n",
       "      <td>KA0ivcqXlWvjjc7yGLbgPg==</td>\n",
       "      <td>NaN</td>\n",
       "      <td>oY84P5XZ6podFVTAhar1bhTwKbcg</td>\n",
       "      <td>N</td>\n",
       "      <td>NaN</td>\n",
       "      <td>0</td>\n",
       "      <td>360</td>\n",
       "      <td>760</td>\n",
       "      <td>3.0</td>\n",
       "      <td>NaN</td>\n",
       "      <td>Android 8.1.0</td>\n",
       "      <td>Chrome Mobile</td>\n",
       "      <td>NaN</td>\n",
       "      <td>NaN</td>\n",
       "      <td>HONOR</td>\n",
       "      <td>NaN</td>\n",
       "      <td>zh_CN</td>\n",
       "      <td>7.0</td>\n",
       "      <td>android</td>\n",
       "      <td>10.88.96.75</td>\n",
       "      <td>2019-01-17 11:34:19</td>\n",
       "      <td>1547696059844</td>\n",
       "      <td>1547696059709</td>\n",
       "      <td>1</td>\n",
       "      <td>NaN</td>\n",
       "      <td>{\"chan_wxapp_scene\":1008,\"chan_id\":1008}</td>\n",
       "      <td>NaN</td>\n",
       "      <td>NaN</td>\n",
       "      <td>NaN</td>\n",
       "      <td>NaN</td>\n",
       "      <td>NaN</td>\n",
       "      <td>113.317827</td>\n",
       "      <td>22.967180</td>\n",
       "      <td>NaN</td>\n",
       "      <td>NaN</td>\n",
       "      <td>NaN</td>\n",
       "      <td>NaN</td>\n",
       "      <td>owKUrwznYaK1JahAzcppZbTfhrl4</td>\n",
       "      <td>20190117</td>\n",
       "    </tr>\n",
       "    <tr>\n",
       "      <th>3</th>\n",
       "      <td>1</td>\n",
       "      <td>1785</td>\n",
       "      <td>NaN</td>\n",
       "      <td>3432.0</td>\n",
       "      <td>NaN</td>\n",
       "      <td>1</td>\n",
       "      <td>1</td>\n",
       "      <td>NaN</td>\n",
       "      <td>NaN</td>\n",
       "      <td>NaN</td>\n",
       "      <td>1</td>\n",
       "      <td>{\"id\":\"\",\"domPos\":\"\",\"type\":\"\",\"typeCN\":\"\",\"kword\":\"\",\"cg\":\"\",\"cgCN\":\"\",\"sort\":\"\",\"sortCN\":\"\",\"state\":\"\",\"stateCN\":\"\",\"from\":\"\",\"fromCN\":\"\",\"upc\":\"\"}</td>\n",
       "      <td>2nv8wm9kA0bFPqKj5eIrSg==</td>\n",
       "      <td>NaN</td>\n",
       "      <td>oY84P5XL1Ga5tS7L8tembj6jxYGg</td>\n",
       "      <td>F</td>\n",
       "      <td>NaN</td>\n",
       "      <td>0</td>\n",
       "      <td>360</td>\n",
       "      <td>640</td>\n",
       "      <td>3.0</td>\n",
       "      <td>NaN</td>\n",
       "      <td>Android 8.1.0</td>\n",
       "      <td>Chrome Mobile</td>\n",
       "      <td>NaN</td>\n",
       "      <td>NaN</td>\n",
       "      <td>xiaomi</td>\n",
       "      <td>NaN</td>\n",
       "      <td>zh_CN</td>\n",
       "      <td>7.0</td>\n",
       "      <td>android</td>\n",
       "      <td>10.88.96.75</td>\n",
       "      <td>2019-01-17 12:17:48</td>\n",
       "      <td>1547698668216</td>\n",
       "      <td>1547698667607</td>\n",
       "      <td>1</td>\n",
       "      <td>NaN</td>\n",
       "      <td>{\"chan_wxapp_scene\":1037,\"chan_id\":1037}</td>\n",
       "      <td>NaN</td>\n",
       "      <td>NaN</td>\n",
       "      <td>NaN</td>\n",
       "      <td>NaN</td>\n",
       "      <td>NaN</td>\n",
       "      <td>113.894829</td>\n",
       "      <td>22.579205</td>\n",
       "      <td>NaN</td>\n",
       "      <td>NaN</td>\n",
       "      <td>NaN</td>\n",
       "      <td>NaN</td>\n",
       "      <td>owKUrwxn1A1GIJwbyf3i14nAR2go</td>\n",
       "      <td>20190117</td>\n",
       "    </tr>\n",
       "    <tr>\n",
       "      <th>4</th>\n",
       "      <td>1</td>\n",
       "      <td>1785</td>\n",
       "      <td>NaN</td>\n",
       "      <td>3432.0</td>\n",
       "      <td>NaN</td>\n",
       "      <td>1</td>\n",
       "      <td>1</td>\n",
       "      <td>NaN</td>\n",
       "      <td>NaN</td>\n",
       "      <td>NaN</td>\n",
       "      <td>2</td>\n",
       "      <td>{\"id\":\"\",\"domPos\":\"\",\"type\":\"\",\"typeCN\":\"\",\"kword\":\"\",\"cg\":\"\",\"cgCN\":\"\",\"sort\":\"\",\"sortCN\":\"\",\"state\":\"\",\"stateCN\":\"\",\"from\":\"\",\"fromCN\":\"\",\"upc\":\"\"}</td>\n",
       "      <td>2nv8wm9kA0bFPqKj5eIrSg==</td>\n",
       "      <td>NaN</td>\n",
       "      <td>oY84P5XL1Ga5tS7L8tembj6jxYGg</td>\n",
       "      <td>F</td>\n",
       "      <td>NaN</td>\n",
       "      <td>0</td>\n",
       "      <td>360</td>\n",
       "      <td>640</td>\n",
       "      <td>3.0</td>\n",
       "      <td>NaN</td>\n",
       "      <td>Android 8.1.0</td>\n",
       "      <td>Chrome Mobile</td>\n",
       "      <td>NaN</td>\n",
       "      <td>NaN</td>\n",
       "      <td>xiaomi</td>\n",
       "      <td>NaN</td>\n",
       "      <td>zh_CN</td>\n",
       "      <td>7.0</td>\n",
       "      <td>android</td>\n",
       "      <td>10.88.96.75</td>\n",
       "      <td>2019-01-17 12:17:54</td>\n",
       "      <td>1547698674472</td>\n",
       "      <td>1547698673803</td>\n",
       "      <td>1</td>\n",
       "      <td>NaN</td>\n",
       "      <td>{\"chan_wxapp_scene\":1037,\"chan_id\":1037}</td>\n",
       "      <td>NaN</td>\n",
       "      <td>NaN</td>\n",
       "      <td>NaN</td>\n",
       "      <td>NaN</td>\n",
       "      <td>NaN</td>\n",
       "      <td>113.894829</td>\n",
       "      <td>22.579205</td>\n",
       "      <td>NaN</td>\n",
       "      <td>NaN</td>\n",
       "      <td>NaN</td>\n",
       "      <td>NaN</td>\n",
       "      <td>owKUrwxn1A1GIJwbyf3i14nAR2go</td>\n",
       "      <td>20190117</td>\n",
       "    </tr>\n",
       "  </tbody>\n",
       "</table>\n",
       "</div>"
      ],
      "text/plain": [
       "   ver  mcId  unifyId  storeId  uStoreId  appType  appId  prePage  curPage  pageTime  event                                                                                                                                               eventRes                 sessionId  uid                        openId wxGender  phone  isNew  screenWidth  screenHeight  screenDesc  screenIsH             os        browser  network  ua devBrand  devMode devLang  wxVer platform           ip                ctime             ts            cts  env  appFrom                                    adFrom  pageRefer  mac  prov  city  addr   longitude   latitude  devNo  isCrack  opt1  opt2                     wxUnionId      date\n",
       "0    1  1785      NaN      NaN       NaN        1      1      NaN      NaN       NaN      1  {\"id\":\"\",\"domPos\":\"\",\"type\":\"\",\"typeCN\":\"\",\"kword\":\"\",\"cg\":\"\",\"cgCN\":\"\",\"sort\":\"\",\"sortCN\":\"\",\"state\":\"\",\"stateCN\":\"\",\"from\":\"\",\"fromCN\":\"\",\"upc\":\"\"}  m7VQRGQtNqeW1KzfsJvVYg==  NaN  oY84P5ZacGCfW0q5nXoEXN7i3w28        M    NaN      1          375           667         2.0        NaN     iOS 11.4.1   Apple WebKit      NaN NaN   iPhone      NaN   zh_CN  7.0.2      ios  10.88.96.75  2019-01-17 12:54:31  1547700871468  1547700871397    1      NaN  {\"chan_wxapp_scene\":1058,\"chan_id\":1058}        NaN  NaN   NaN   NaN   NaN  114.235512  22.724514    NaN      NaN   NaN   NaN  owKUrwyMnFU_jGStYLCRPoT4sYAM  20190117\n",
       "1    1  1785      NaN   2744.0       NaN        1      1      NaN      NaN       NaN      1  {\"id\":\"\",\"domPos\":\"\",\"type\":\"\",\"typeCN\":\"\",\"kword\":\"\",\"cg\":\"\",\"cgCN\":\"\",\"sort\":\"\",\"sortCN\":\"\",\"state\":\"\",\"stateCN\":\"\",\"from\":\"\",\"fromCN\":\"\",\"upc\":\"\"}  KA0ivcqXlWvjjc7yGLbgPg==  NaN  oY84P5XZ6podFVTAhar1bhTwKbcg        N    NaN      0          360           760         3.0        NaN  Android 8.1.0  Chrome Mobile      NaN NaN    HONOR      NaN   zh_CN    7.0  android  10.88.96.75  2019-01-17 08:48:33  1547686113463  1547686113009    1      NaN  {\"chan_wxapp_scene\":1008,\"chan_id\":1008}        NaN  NaN   NaN   NaN   NaN  113.317829  22.967184    NaN      NaN   NaN   NaN  owKUrwznYaK1JahAzcppZbTfhrl4  20190117\n",
       "2    1  1785      NaN   2744.0       NaN        1      1      NaN      NaN       NaN      1  {\"id\":\"\",\"domPos\":\"\",\"type\":\"\",\"typeCN\":\"\",\"kword\":\"\",\"cg\":\"\",\"cgCN\":\"\",\"sort\":\"\",\"sortCN\":\"\",\"state\":\"\",\"stateCN\":\"\",\"from\":\"\",\"fromCN\":\"\",\"upc\":\"\"}  KA0ivcqXlWvjjc7yGLbgPg==  NaN  oY84P5XZ6podFVTAhar1bhTwKbcg        N    NaN      0          360           760         3.0        NaN  Android 8.1.0  Chrome Mobile      NaN NaN    HONOR      NaN   zh_CN    7.0  android  10.88.96.75  2019-01-17 11:34:19  1547696059844  1547696059709    1      NaN  {\"chan_wxapp_scene\":1008,\"chan_id\":1008}        NaN  NaN   NaN   NaN   NaN  113.317827  22.967180    NaN      NaN   NaN   NaN  owKUrwznYaK1JahAzcppZbTfhrl4  20190117\n",
       "3    1  1785      NaN   3432.0       NaN        1      1      NaN      NaN       NaN      1  {\"id\":\"\",\"domPos\":\"\",\"type\":\"\",\"typeCN\":\"\",\"kword\":\"\",\"cg\":\"\",\"cgCN\":\"\",\"sort\":\"\",\"sortCN\":\"\",\"state\":\"\",\"stateCN\":\"\",\"from\":\"\",\"fromCN\":\"\",\"upc\":\"\"}  2nv8wm9kA0bFPqKj5eIrSg==  NaN  oY84P5XL1Ga5tS7L8tembj6jxYGg        F    NaN      0          360           640         3.0        NaN  Android 8.1.0  Chrome Mobile      NaN NaN   xiaomi      NaN   zh_CN    7.0  android  10.88.96.75  2019-01-17 12:17:48  1547698668216  1547698667607    1      NaN  {\"chan_wxapp_scene\":1037,\"chan_id\":1037}        NaN  NaN   NaN   NaN   NaN  113.894829  22.579205    NaN      NaN   NaN   NaN  owKUrwxn1A1GIJwbyf3i14nAR2go  20190117\n",
       "4    1  1785      NaN   3432.0       NaN        1      1      NaN      NaN       NaN      2  {\"id\":\"\",\"domPos\":\"\",\"type\":\"\",\"typeCN\":\"\",\"kword\":\"\",\"cg\":\"\",\"cgCN\":\"\",\"sort\":\"\",\"sortCN\":\"\",\"state\":\"\",\"stateCN\":\"\",\"from\":\"\",\"fromCN\":\"\",\"upc\":\"\"}  2nv8wm9kA0bFPqKj5eIrSg==  NaN  oY84P5XL1Ga5tS7L8tembj6jxYGg        F    NaN      0          360           640         3.0        NaN  Android 8.1.0  Chrome Mobile      NaN NaN   xiaomi      NaN   zh_CN    7.0  android  10.88.96.75  2019-01-17 12:17:54  1547698674472  1547698673803    1      NaN  {\"chan_wxapp_scene\":1037,\"chan_id\":1037}        NaN  NaN   NaN   NaN   NaN  113.894829  22.579205    NaN      NaN   NaN   NaN  owKUrwxn1A1GIJwbyf3i14nAR2go  20190117"
      ]
     },
     "execution_count": 12,
     "metadata": {},
     "output_type": "execute_result"
    }
   ],
   "source": [
    "res.head()"
   ]
  },
  {
   "cell_type": "markdown",
   "metadata": {},
   "source": [
    "### 部分人的session 分析"
   ]
  },
  {
   "cell_type": "code",
   "execution_count": null,
   "metadata": {
    "ExecuteTime": {
     "end_time": "2019-01-30T05:13:50.003048Z",
     "start_time": "2019-01-30T05:13:49.994105Z"
    }
   },
   "outputs": [],
   "source": [
    "def get_session_info(openID, name):\n",
    "    session_df = res[res['openId']==openID][['event','ts','date','sessionId']]\n",
    "    session_df['time'] = session_df['ts'].apply(lambda x: datetime.fromtimestamp(float(x/1000.0)).strftime('%Y-%m-%d %H:%M:%S'))\n",
    "    session_df['pv'] = session_df['sessionId'].map(session_df.groupby('sessionId')['date'].count().to_dict())\n",
    "    session_df['time'] = pd.to_datetime(session_df['time'])    \n",
    "    session_df['valid_period'] = session_df['sessionId'].map(session_df.groupby('sessionId')['time'].agg(np.ptp).to_dict())\n",
    "    session_df.to_csv('session_out/' + name, index=False)"
   ]
  },
  {
   "cell_type": "code",
   "execution_count": null,
   "metadata": {
    "ExecuteTime": {
     "end_time": "2019-01-30T05:13:55.281187Z",
     "start_time": "2019-01-30T05:13:50.004786Z"
    }
   },
   "outputs": [],
   "source": [
    "get_session_info(\"oY84P5TDrUrUEN9tN02-b2uC_AcM\", \"Gina\")"
   ]
  },
  {
   "cell_type": "code",
   "execution_count": null,
   "metadata": {
    "ExecuteTime": {
     "end_time": "2019-01-30T05:13:55.654672Z",
     "start_time": "2019-01-30T05:13:55.283635Z"
    }
   },
   "outputs": [],
   "source": [
    "get_session_info(\"oY84P5Sgn3H_zpSn8Bn28EVum1_o\", \"xiaolan\")"
   ]
  },
  {
   "cell_type": "code",
   "execution_count": null,
   "metadata": {
    "ExecuteTime": {
     "end_time": "2019-01-30T05:13:56.022454Z",
     "start_time": "2019-01-30T05:13:55.657576Z"
    }
   },
   "outputs": [],
   "source": [
    "get_session_info(\"oY84P5dHvbhUQst-_2rVmiRUnjZ8\",\"ye\")"
   ]
  },
  {
   "cell_type": "code",
   "execution_count": null,
   "metadata": {
    "ExecuteTime": {
     "end_time": "2019-01-30T05:13:56.460488Z",
     "start_time": "2019-01-30T05:13:56.024654Z"
    }
   },
   "outputs": [],
   "source": [
    "get_session_info(\"oY84P5d-SRz4HdnstzVnuLuAXMNI\", \"freq\")"
   ]
  },
  {
   "cell_type": "code",
   "execution_count": null,
   "metadata": {
    "ExecuteTime": {
     "end_time": "2019-01-30T05:13:57.122615Z",
     "start_time": "2019-01-30T05:13:56.462815Z"
    }
   },
   "outputs": [],
   "source": [
    "res['openId'].value_counts()"
   ]
  },
  {
   "cell_type": "code",
   "execution_count": null,
   "metadata": {},
   "outputs": [],
   "source": []
  },
  {
   "cell_type": "markdown",
   "metadata": {},
   "source": [
    "### Session Survival Analysis"
   ]
  },
  {
   "cell_type": "code",
   "execution_count": null,
   "metadata": {
    "ExecuteTime": {
     "start_time": "2019-01-30T11:12:05.291Z"
    }
   },
   "outputs": [],
   "source": [
    "res['time'] = res['ts'].apply(lambda x: datetime.fromtimestamp(float(x/1000.0)).strftime('%Y-%m-%d %H:%M:%S'))"
   ]
  },
  {
   "cell_type": "code",
   "execution_count": null,
   "metadata": {
    "ExecuteTime": {
     "start_time": "2019-01-30T11:12:06.606Z"
    }
   },
   "outputs": [],
   "source": [
    "res['pv'] = res['sessionId'].map(res.groupby('sessionId')['date'].count().to_dict())"
   ]
  },
  {
   "cell_type": "code",
   "execution_count": null,
   "metadata": {
    "ExecuteTime": {
     "start_time": "2019-01-30T11:12:06.962Z"
    }
   },
   "outputs": [],
   "source": [
    "res['time'] = pd.to_datetime(res['time']) "
   ]
  },
  {
   "cell_type": "code",
   "execution_count": null,
   "metadata": {
    "ExecuteTime": {
     "start_time": "2019-01-30T11:12:07.327Z"
    }
   },
   "outputs": [],
   "source": [
    "res['valid_period'] = res['sessionId'].map(res.groupby('sessionId')['time'].agg(np.ptp).to_dict())"
   ]
  },
  {
   "cell_type": "code",
   "execution_count": null,
   "metadata": {
    "ExecuteTime": {
     "start_time": "2019-01-30T11:12:07.825Z"
    }
   },
   "outputs": [],
   "source": [
    "out = res[['openId','sessionId', 'pv', 'event','date','time','valid_period']]"
   ]
  },
  {
   "cell_type": "code",
   "execution_count": null,
   "metadata": {
    "ExecuteTime": {
     "start_time": "2019-01-30T11:12:08.341Z"
    }
   },
   "outputs": [],
   "source": [
    "import matplotlib.pyplot as plt"
   ]
  },
  {
   "cell_type": "code",
   "execution_count": null,
   "metadata": {
    "ExecuteTime": {
     "start_time": "2019-01-30T11:12:08.646Z"
    }
   },
   "outputs": [],
   "source": [
    "session_df = out[['sessionId','valid_period','pv']].drop_duplicates().dropna()"
   ]
  },
  {
   "cell_type": "code",
   "execution_count": null,
   "metadata": {
    "ExecuteTime": {
     "start_time": "2019-01-30T11:12:09.131Z"
    }
   },
   "outputs": [],
   "source": [
    "session_df['valid_period'].describe()"
   ]
  },
  {
   "cell_type": "code",
   "execution_count": null,
   "metadata": {
    "ExecuteTime": {
     "start_time": "2019-01-30T11:12:09.711Z"
    }
   },
   "outputs": [],
   "source": [
    "session_df['pv'].describe()"
   ]
  },
  {
   "cell_type": "code",
   "execution_count": null,
   "metadata": {
    "ExecuteTime": {
     "end_time": "2019-01-30T04:13:02.092520Z",
     "start_time": "2019-01-30T04:13:01.269806Z"
    }
   },
   "outputs": [],
   "source": [
    "fig, ax = plt.subplots(figsize=(15,7))\n",
    "session_df.groupby('pv').count()['sessionId'].plot(ax=ax,logx=True)"
   ]
  },
  {
   "cell_type": "code",
   "execution_count": null,
   "metadata": {
    "ExecuteTime": {
     "end_time": "2019-01-30T05:14:55.272648Z",
     "start_time": "2019-01-30T05:14:55.092365Z"
    }
   },
   "outputs": [],
   "source": [
    "session_df['pv'].plot.hist()"
   ]
  },
  {
   "cell_type": "code",
   "execution_count": null,
   "metadata": {
    "ExecuteTime": {
     "end_time": "2019-01-30T05:14:55.285084Z",
     "start_time": "2019-01-30T05:14:55.274591Z"
    }
   },
   "outputs": [],
   "source": [
    "session_df.head()"
   ]
  },
  {
   "cell_type": "code",
   "execution_count": null,
   "metadata": {
    "ExecuteTime": {
     "end_time": "2019-01-30T05:14:59.076328Z",
     "start_time": "2019-01-30T05:14:55.287438Z"
    }
   },
   "outputs": [],
   "source": [
    "session_df['hours'] = session_df['valid_period'].dt.components.hours + session_df['valid_period'].dt.days*24 + session_df['valid_period'].dt.components.minutes/60"
   ]
  },
  {
   "cell_type": "code",
   "execution_count": null,
   "metadata": {
    "ExecuteTime": {
     "end_time": "2019-01-30T05:14:59.096721Z",
     "start_time": "2019-01-30T05:14:59.078243Z"
    }
   },
   "outputs": [],
   "source": [
    "session_df.head()"
   ]
  },
  {
   "cell_type": "code",
   "execution_count": null,
   "metadata": {
    "ExecuteTime": {
     "end_time": "2019-01-30T05:14:59.154604Z",
     "start_time": "2019-01-30T05:14:59.098454Z"
    }
   },
   "outputs": [],
   "source": [
    "session_df.shape"
   ]
  },
  {
   "cell_type": "code",
   "execution_count": null,
   "metadata": {
    "ExecuteTime": {
     "end_time": "2019-01-30T11:07:49.679663Z",
     "start_time": "2019-01-30T11:07:49.608809Z"
    }
   },
   "outputs": [],
   "source": [
    "session_df.hist()"
   ]
  },
  {
   "cell_type": "code",
   "execution_count": null,
   "metadata": {
    "ExecuteTime": {
     "end_time": "2019-01-30T05:15:02.000934Z",
     "start_time": "2019-01-30T05:14:59.416518Z"
    }
   },
   "outputs": [],
   "source": [
    "session_df.to_csv('session_out/ttl_session.csv', index=False)"
   ]
  },
  {
   "cell_type": "code",
   "execution_count": null,
   "metadata": {},
   "outputs": [],
   "source": []
  }
 ],
 "metadata": {
  "kernelspec": {
   "display_name": "Python 3",
   "language": "python",
   "name": "python3"
  },
  "language_info": {
   "codemirror_mode": {
    "name": "ipython",
    "version": 3
   },
   "file_extension": ".py",
   "mimetype": "text/x-python",
   "name": "python",
   "nbconvert_exporter": "python",
   "pygments_lexer": "ipython3",
   "version": "3.6.5"
  }
 },
 "nbformat": 4,
 "nbformat_minor": 2
}
